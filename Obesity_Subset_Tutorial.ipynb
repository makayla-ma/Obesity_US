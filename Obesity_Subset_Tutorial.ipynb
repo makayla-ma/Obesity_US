{
  "nbformat": 4,
  "nbformat_minor": 0,
  "metadata": {
    "colab": {
      "provenance": [],
      "mount_file_id": "1AC3_dD9QvITTHhVjLVivUPDNHHq_v3-e",
      "authorship_tag": "ABX9TyNeEyWLnH3LW5Hqn9GpFydn",
      "include_colab_link": true
    },
    "kernelspec": {
      "name": "python3",
      "display_name": "Python 3"
    },
    "language_info": {
      "name": "python"
    }
  },
  "cells": [
    {
      "cell_type": "markdown",
      "metadata": {
        "id": "view-in-github",
        "colab_type": "text"
      },
      "source": [
        "<a href=\"https://colab.research.google.com/github/makayla-ma/Obesity_US/blob/main/Obesity_Subset_Tutorial.ipynb\" target=\"_parent\"><img src=\"https://colab.research.google.com/assets/colab-badge.svg\" alt=\"Open In Colab\"/></a>"
      ]
    },
    {
      "cell_type": "markdown",
      "source": [
        "# Creating the Young Adult Obesity Subset\n",
        "## Overview\n",
        "The instructions below will guide you through the steps required to create the Young Adult Obesity Subset from the public dataset [Nutrition, Physical Activity, and Obesity - Behavioral Risk Factor Surveillance System](https://catalog.data.gov/dataset/nutrition-physical-activity-and-obesity-behavioral-risk-factor-surveillance-system) by the U.S. Department of Health & Human Services.\n",
        "- The final subset will be a `.csv` file that contains the percentages of adults in the U.S. between ages 18 and 24 who had obesity in 2013 and 2023.\n",
        "- The subset will be created with Python in [Google Colab Notebooks](https://colab.research.google.com/) and will require the user to have access to a **Google Account** and a **Google Drive**.\n",
        "- This tutorial will assume little to no experience with data analysis and programming software.\n",
        "\n",
        "**The overall process is outlined here**:\n",
        "1. Create a folder in your **Google Drive** to house the materials for this project.\n",
        "2. Create a new **Colab Notebook** and import the required **packages**.\n",
        "3. Create a **DataFrame** from our public dataset.\n",
        "4. **Filter** the dataframe to create a subset of only our desired data values.\n",
        "5. **Rename** the subset and **export** as a `.csv` file.\n",
        "\n",
        "### Getting Started\n",
        "1. In your Google Drive, create a folder to house the materials for this project.\n",
        "> You can call the folder whatever you want, but ideally, name it something that you will be able to find easily. For this tutorial, this folder will be referred to as \"Obesity Subset.\"\n",
        "2. Download the [Nutrition, Physical Activity, and Obesity - Behavioral Risk Factor Surveillance System](https://catalog.data.gov/dataset/nutrition-physical-activity-and-obesity-behavioral-risk-factor-surveillance-system) public dataset as a `.csv` file to the Obesity Subset folder (or whatever you named yours).\n",
        "3. Create a new Colab Notebook in your folder.\n",
        "4. Run the following code in your Colab Notebook to mount your Google Drive and follow the prompted instructions.\n"
      ],
      "metadata": {
        "id": "7N25Pfs0fnQm"
      }
    },
    {
      "cell_type": "code",
      "source": [
        "from google.colab import drive\n",
        "drive.mount('/content/drive')"
      ],
      "metadata": {
        "colab": {
          "base_uri": "https://localhost:8080/"
        },
        "id": "Pue3WxmWGVt5",
        "outputId": "061b2e03-443d-43d4-9883-b4b57e497948"
      },
      "execution_count": null,
      "outputs": [
        {
          "output_type": "stream",
          "name": "stdout",
          "text": [
            "Mounted at /content/drive\n"
          ]
        }
      ]
    },
    {
      "cell_type": "markdown",
      "source": [
        "5. Import the *pandas* and *numpy* packages in Python with the following code. This will provide additional tools for data analysis."
      ],
      "metadata": {
        "id": "M_QgmpyQGgzR"
      }
    },
    {
      "cell_type": "code",
      "source": [
        "import numpy as np\n",
        "import pandas as pd"
      ],
      "metadata": {
        "id": "-qSITXnwHElQ"
      },
      "execution_count": null,
      "outputs": []
    },
    {
      "cell_type": "markdown",
      "source": [
        "6. Create a dataframe from the public dataset with the following code, ensuring that everything is spelled correctly. I have named the dataframe \"df\" for simplicity, but you can name it whatever you'd like. Use the name of your folder instead of `Obesity Subset` in the line of code below."
      ],
      "metadata": {
        "id": "0yj8gnQjHdum"
      }
    },
    {
      "cell_type": "code",
      "source": [
        "df=pd.read_csv('drive/My Drive/Obesity Subset/Nutrition__Physical_Activity__and_Obesity_-_Behavioral_Risk_Factor_Surveillance_System.csv')"
      ],
      "metadata": {
        "id": "wAHYsEiiKXo4"
      },
      "execution_count": null,
      "outputs": []
    },
    {
      "cell_type": "markdown",
      "source": [
        "If you don't get an error message, you have successfully created a dataframe from the downloaded `.csv` file. If you get an error message, the most plausible reason is that something has been spelled incorrectly.\n",
        "### Filtering the Dataframe\n",
        "This dataset contains information about much more than what we're looking for, so we need to filter out just what we want, which are the following criteria:\n",
        "- The percent of adults aged 18 years and older who have obesity\n",
        "- The age group of young adults from 18 - 24\n",
        "- The values from the years 2013 and 2023\n",
        "7. Use the following line of code to create a subset of only the values related to obesity (replacing `df` with whatever you named your dataframe). I have chosen to name this subset `Obesity_subset` for clarity, you can name it whatever makes sense to you."
      ],
      "metadata": {
        "id": "crT8yfKQMR_p"
      }
    },
    {
      "cell_type": "code",
      "source": [
        "Obesity_subset=df[df[\"Question\"]==\"Percent of adults aged 18 years and older who have obesity\"].copy()"
      ],
      "metadata": {
        "id": "vejbmT5qOoY0"
      },
      "execution_count": null,
      "outputs": []
    },
    {
      "cell_type": "markdown",
      "source": [
        "8. Use the following line of code to create a subset of the `Obesity_subset` that contains only the values for ages 18 through 24, again replacing the names with your own."
      ],
      "metadata": {
        "id": "rA4x-dcCPV4u"
      }
    },
    {
      "cell_type": "code",
      "source": [
        "YoungAdult_Obesity_subset=Obesity_subset[Obesity_subset[\"Stratification1\"]==\"18 - 24\"].copy()"
      ],
      "metadata": {
        "id": "XAQ_kPduO3Cq"
      },
      "execution_count": null,
      "outputs": []
    },
    {
      "cell_type": "markdown",
      "source": [
        "9. Use the following line of code to create a subset of the `YoungAdult_Obesity_subset` that contains only the values from 2013 and 2023."
      ],
      "metadata": {
        "id": "ewivTD4FQGDn"
      }
    },
    {
      "cell_type": "code",
      "source": [
        "Decade_YoungAdult_Obesity_subset=YoungAdult_Obesity_subset[(YoungAdult_Obesity_subset[\"YearStart\"]==2013) | (YoungAdult_Obesity_subset[\"YearStart\"]==2023)].copy()"
      ],
      "metadata": {
        "id": "BVOXbRQoQXJH"
      },
      "execution_count": null,
      "outputs": []
    },
    {
      "cell_type": "markdown",
      "source": [
        "10. The public dataframe also contains a lot of columns that we don't need. Use the line of code below to filter out the columns displaying the year, state, and percentage of young adults who had obesity. Once again, I have chosen to name the final subset `USA_Decade_YoungAdult_Obesity_subset`, but name the subset whatever makes sense to you."
      ],
      "metadata": {
        "id": "HWGbW0nWRa5j"
      }
    },
    {
      "cell_type": "code",
      "source": [
        "USA_Decade_YoungAdult_Obesity_subset=Decade_YoungAdult_Obesity_subset[[\"YearStart\",\"LocationDesc\",\"Data_Value\"]].copy()"
      ],
      "metadata": {
        "id": "aHbTDhMYRuRK"
      },
      "execution_count": null,
      "outputs": []
    },
    {
      "cell_type": "markdown",
      "source": [
        "Now, our subset should be successfully completed with only our desired values. To view the subset, run a line of code with the name of your subset:"
      ],
      "metadata": {
        "id": "tnu_qDJyQuZ7"
      }
    },
    {
      "cell_type": "code",
      "source": [
        "USA_Decade_YoungAdult_Obesity_subset"
      ],
      "metadata": {
        "colab": {
          "base_uri": "https://localhost:8080/",
          "height": 424
        },
        "id": "LzjeUgxxR3ge",
        "outputId": "fa1f2087-edb2-4c61-f2cb-739a0407e078"
      },
      "execution_count": null,
      "outputs": [
        {
          "output_type": "execute_result",
          "data": {
            "text/plain": [
              "        YearStart   LocationDesc  Data_Value\n",
              "14703        2013         Alaska        12.6\n",
              "14846        2013        Alabama        19.0\n",
              "15130        2013       Arkansas        29.6\n",
              "15156        2013        Arizona        13.4\n",
              "15399        2013     California        12.2\n",
              "...           ...            ...         ...\n",
              "103396       2023        Vermont        16.0\n",
              "103620       2023     Washington        18.9\n",
              "103729       2023      Wisconsin        20.0\n",
              "104019       2023  West Virginia        26.7\n",
              "104130       2023        Wyoming        23.7\n",
              "\n",
              "[108 rows x 3 columns]"
            ],
            "text/html": [
              "\n",
              "  <div id=\"df-591a308e-3ae8-4b9d-bf06-046bacfb5c1f\" class=\"colab-df-container\">\n",
              "    <div>\n",
              "<style scoped>\n",
              "    .dataframe tbody tr th:only-of-type {\n",
              "        vertical-align: middle;\n",
              "    }\n",
              "\n",
              "    .dataframe tbody tr th {\n",
              "        vertical-align: top;\n",
              "    }\n",
              "\n",
              "    .dataframe thead th {\n",
              "        text-align: right;\n",
              "    }\n",
              "</style>\n",
              "<table border=\"1\" class=\"dataframe\">\n",
              "  <thead>\n",
              "    <tr style=\"text-align: right;\">\n",
              "      <th></th>\n",
              "      <th>YearStart</th>\n",
              "      <th>LocationDesc</th>\n",
              "      <th>Data_Value</th>\n",
              "    </tr>\n",
              "  </thead>\n",
              "  <tbody>\n",
              "    <tr>\n",
              "      <th>14703</th>\n",
              "      <td>2013</td>\n",
              "      <td>Alaska</td>\n",
              "      <td>12.6</td>\n",
              "    </tr>\n",
              "    <tr>\n",
              "      <th>14846</th>\n",
              "      <td>2013</td>\n",
              "      <td>Alabama</td>\n",
              "      <td>19.0</td>\n",
              "    </tr>\n",
              "    <tr>\n",
              "      <th>15130</th>\n",
              "      <td>2013</td>\n",
              "      <td>Arkansas</td>\n",
              "      <td>29.6</td>\n",
              "    </tr>\n",
              "    <tr>\n",
              "      <th>15156</th>\n",
              "      <td>2013</td>\n",
              "      <td>Arizona</td>\n",
              "      <td>13.4</td>\n",
              "    </tr>\n",
              "    <tr>\n",
              "      <th>15399</th>\n",
              "      <td>2013</td>\n",
              "      <td>California</td>\n",
              "      <td>12.2</td>\n",
              "    </tr>\n",
              "    <tr>\n",
              "      <th>...</th>\n",
              "      <td>...</td>\n",
              "      <td>...</td>\n",
              "      <td>...</td>\n",
              "    </tr>\n",
              "    <tr>\n",
              "      <th>103396</th>\n",
              "      <td>2023</td>\n",
              "      <td>Vermont</td>\n",
              "      <td>16.0</td>\n",
              "    </tr>\n",
              "    <tr>\n",
              "      <th>103620</th>\n",
              "      <td>2023</td>\n",
              "      <td>Washington</td>\n",
              "      <td>18.9</td>\n",
              "    </tr>\n",
              "    <tr>\n",
              "      <th>103729</th>\n",
              "      <td>2023</td>\n",
              "      <td>Wisconsin</td>\n",
              "      <td>20.0</td>\n",
              "    </tr>\n",
              "    <tr>\n",
              "      <th>104019</th>\n",
              "      <td>2023</td>\n",
              "      <td>West Virginia</td>\n",
              "      <td>26.7</td>\n",
              "    </tr>\n",
              "    <tr>\n",
              "      <th>104130</th>\n",
              "      <td>2023</td>\n",
              "      <td>Wyoming</td>\n",
              "      <td>23.7</td>\n",
              "    </tr>\n",
              "  </tbody>\n",
              "</table>\n",
              "<p>108 rows × 3 columns</p>\n",
              "</div>\n",
              "    <div class=\"colab-df-buttons\">\n",
              "\n",
              "  <div class=\"colab-df-container\">\n",
              "    <button class=\"colab-df-convert\" onclick=\"convertToInteractive('df-591a308e-3ae8-4b9d-bf06-046bacfb5c1f')\"\n",
              "            title=\"Convert this dataframe to an interactive table.\"\n",
              "            style=\"display:none;\">\n",
              "\n",
              "  <svg xmlns=\"http://www.w3.org/2000/svg\" height=\"24px\" viewBox=\"0 -960 960 960\">\n",
              "    <path d=\"M120-120v-720h720v720H120Zm60-500h600v-160H180v160Zm220 220h160v-160H400v160Zm0 220h160v-160H400v160ZM180-400h160v-160H180v160Zm440 0h160v-160H620v160ZM180-180h160v-160H180v160Zm440 0h160v-160H620v160Z\"/>\n",
              "  </svg>\n",
              "    </button>\n",
              "\n",
              "  <style>\n",
              "    .colab-df-container {\n",
              "      display:flex;\n",
              "      gap: 12px;\n",
              "    }\n",
              "\n",
              "    .colab-df-convert {\n",
              "      background-color: #E8F0FE;\n",
              "      border: none;\n",
              "      border-radius: 50%;\n",
              "      cursor: pointer;\n",
              "      display: none;\n",
              "      fill: #1967D2;\n",
              "      height: 32px;\n",
              "      padding: 0 0 0 0;\n",
              "      width: 32px;\n",
              "    }\n",
              "\n",
              "    .colab-df-convert:hover {\n",
              "      background-color: #E2EBFA;\n",
              "      box-shadow: 0px 1px 2px rgba(60, 64, 67, 0.3), 0px 1px 3px 1px rgba(60, 64, 67, 0.15);\n",
              "      fill: #174EA6;\n",
              "    }\n",
              "\n",
              "    .colab-df-buttons div {\n",
              "      margin-bottom: 4px;\n",
              "    }\n",
              "\n",
              "    [theme=dark] .colab-df-convert {\n",
              "      background-color: #3B4455;\n",
              "      fill: #D2E3FC;\n",
              "    }\n",
              "\n",
              "    [theme=dark] .colab-df-convert:hover {\n",
              "      background-color: #434B5C;\n",
              "      box-shadow: 0px 1px 3px 1px rgba(0, 0, 0, 0.15);\n",
              "      filter: drop-shadow(0px 1px 2px rgba(0, 0, 0, 0.3));\n",
              "      fill: #FFFFFF;\n",
              "    }\n",
              "  </style>\n",
              "\n",
              "    <script>\n",
              "      const buttonEl =\n",
              "        document.querySelector('#df-591a308e-3ae8-4b9d-bf06-046bacfb5c1f button.colab-df-convert');\n",
              "      buttonEl.style.display =\n",
              "        google.colab.kernel.accessAllowed ? 'block' : 'none';\n",
              "\n",
              "      async function convertToInteractive(key) {\n",
              "        const element = document.querySelector('#df-591a308e-3ae8-4b9d-bf06-046bacfb5c1f');\n",
              "        const dataTable =\n",
              "          await google.colab.kernel.invokeFunction('convertToInteractive',\n",
              "                                                    [key], {});\n",
              "        if (!dataTable) return;\n",
              "\n",
              "        const docLinkHtml = 'Like what you see? Visit the ' +\n",
              "          '<a target=\"_blank\" href=https://colab.research.google.com/notebooks/data_table.ipynb>data table notebook</a>'\n",
              "          + ' to learn more about interactive tables.';\n",
              "        element.innerHTML = '';\n",
              "        dataTable['output_type'] = 'display_data';\n",
              "        await google.colab.output.renderOutput(dataTable, element);\n",
              "        const docLink = document.createElement('div');\n",
              "        docLink.innerHTML = docLinkHtml;\n",
              "        element.appendChild(docLink);\n",
              "      }\n",
              "    </script>\n",
              "  </div>\n",
              "\n",
              "\n",
              "<div id=\"df-acb8bb8e-c675-4fae-8ceb-aa88c4a36b23\">\n",
              "  <button class=\"colab-df-quickchart\" onclick=\"quickchart('df-acb8bb8e-c675-4fae-8ceb-aa88c4a36b23')\"\n",
              "            title=\"Suggest charts\"\n",
              "            style=\"display:none;\">\n",
              "\n",
              "<svg xmlns=\"http://www.w3.org/2000/svg\" height=\"24px\"viewBox=\"0 0 24 24\"\n",
              "     width=\"24px\">\n",
              "    <g>\n",
              "        <path d=\"M19 3H5c-1.1 0-2 .9-2 2v14c0 1.1.9 2 2 2h14c1.1 0 2-.9 2-2V5c0-1.1-.9-2-2-2zM9 17H7v-7h2v7zm4 0h-2V7h2v10zm4 0h-2v-4h2v4z\"/>\n",
              "    </g>\n",
              "</svg>\n",
              "  </button>\n",
              "\n",
              "<style>\n",
              "  .colab-df-quickchart {\n",
              "      --bg-color: #E8F0FE;\n",
              "      --fill-color: #1967D2;\n",
              "      --hover-bg-color: #E2EBFA;\n",
              "      --hover-fill-color: #174EA6;\n",
              "      --disabled-fill-color: #AAA;\n",
              "      --disabled-bg-color: #DDD;\n",
              "  }\n",
              "\n",
              "  [theme=dark] .colab-df-quickchart {\n",
              "      --bg-color: #3B4455;\n",
              "      --fill-color: #D2E3FC;\n",
              "      --hover-bg-color: #434B5C;\n",
              "      --hover-fill-color: #FFFFFF;\n",
              "      --disabled-bg-color: #3B4455;\n",
              "      --disabled-fill-color: #666;\n",
              "  }\n",
              "\n",
              "  .colab-df-quickchart {\n",
              "    background-color: var(--bg-color);\n",
              "    border: none;\n",
              "    border-radius: 50%;\n",
              "    cursor: pointer;\n",
              "    display: none;\n",
              "    fill: var(--fill-color);\n",
              "    height: 32px;\n",
              "    padding: 0;\n",
              "    width: 32px;\n",
              "  }\n",
              "\n",
              "  .colab-df-quickchart:hover {\n",
              "    background-color: var(--hover-bg-color);\n",
              "    box-shadow: 0 1px 2px rgba(60, 64, 67, 0.3), 0 1px 3px 1px rgba(60, 64, 67, 0.15);\n",
              "    fill: var(--button-hover-fill-color);\n",
              "  }\n",
              "\n",
              "  .colab-df-quickchart-complete:disabled,\n",
              "  .colab-df-quickchart-complete:disabled:hover {\n",
              "    background-color: var(--disabled-bg-color);\n",
              "    fill: var(--disabled-fill-color);\n",
              "    box-shadow: none;\n",
              "  }\n",
              "\n",
              "  .colab-df-spinner {\n",
              "    border: 2px solid var(--fill-color);\n",
              "    border-color: transparent;\n",
              "    border-bottom-color: var(--fill-color);\n",
              "    animation:\n",
              "      spin 1s steps(1) infinite;\n",
              "  }\n",
              "\n",
              "  @keyframes spin {\n",
              "    0% {\n",
              "      border-color: transparent;\n",
              "      border-bottom-color: var(--fill-color);\n",
              "      border-left-color: var(--fill-color);\n",
              "    }\n",
              "    20% {\n",
              "      border-color: transparent;\n",
              "      border-left-color: var(--fill-color);\n",
              "      border-top-color: var(--fill-color);\n",
              "    }\n",
              "    30% {\n",
              "      border-color: transparent;\n",
              "      border-left-color: var(--fill-color);\n",
              "      border-top-color: var(--fill-color);\n",
              "      border-right-color: var(--fill-color);\n",
              "    }\n",
              "    40% {\n",
              "      border-color: transparent;\n",
              "      border-right-color: var(--fill-color);\n",
              "      border-top-color: var(--fill-color);\n",
              "    }\n",
              "    60% {\n",
              "      border-color: transparent;\n",
              "      border-right-color: var(--fill-color);\n",
              "    }\n",
              "    80% {\n",
              "      border-color: transparent;\n",
              "      border-right-color: var(--fill-color);\n",
              "      border-bottom-color: var(--fill-color);\n",
              "    }\n",
              "    90% {\n",
              "      border-color: transparent;\n",
              "      border-bottom-color: var(--fill-color);\n",
              "    }\n",
              "  }\n",
              "</style>\n",
              "\n",
              "  <script>\n",
              "    async function quickchart(key) {\n",
              "      const quickchartButtonEl =\n",
              "        document.querySelector('#' + key + ' button');\n",
              "      quickchartButtonEl.disabled = true;  // To prevent multiple clicks.\n",
              "      quickchartButtonEl.classList.add('colab-df-spinner');\n",
              "      try {\n",
              "        const charts = await google.colab.kernel.invokeFunction(\n",
              "            'suggestCharts', [key], {});\n",
              "      } catch (error) {\n",
              "        console.error('Error during call to suggestCharts:', error);\n",
              "      }\n",
              "      quickchartButtonEl.classList.remove('colab-df-spinner');\n",
              "      quickchartButtonEl.classList.add('colab-df-quickchart-complete');\n",
              "    }\n",
              "    (() => {\n",
              "      let quickchartButtonEl =\n",
              "        document.querySelector('#df-acb8bb8e-c675-4fae-8ceb-aa88c4a36b23 button');\n",
              "      quickchartButtonEl.style.display =\n",
              "        google.colab.kernel.accessAllowed ? 'block' : 'none';\n",
              "    })();\n",
              "  </script>\n",
              "</div>\n",
              "\n",
              "  <div id=\"id_4d3cb3c3-a5d8-44f1-9146-3047f4d10538\">\n",
              "    <style>\n",
              "      .colab-df-generate {\n",
              "        background-color: #E8F0FE;\n",
              "        border: none;\n",
              "        border-radius: 50%;\n",
              "        cursor: pointer;\n",
              "        display: none;\n",
              "        fill: #1967D2;\n",
              "        height: 32px;\n",
              "        padding: 0 0 0 0;\n",
              "        width: 32px;\n",
              "      }\n",
              "\n",
              "      .colab-df-generate:hover {\n",
              "        background-color: #E2EBFA;\n",
              "        box-shadow: 0px 1px 2px rgba(60, 64, 67, 0.3), 0px 1px 3px 1px rgba(60, 64, 67, 0.15);\n",
              "        fill: #174EA6;\n",
              "      }\n",
              "\n",
              "      [theme=dark] .colab-df-generate {\n",
              "        background-color: #3B4455;\n",
              "        fill: #D2E3FC;\n",
              "      }\n",
              "\n",
              "      [theme=dark] .colab-df-generate:hover {\n",
              "        background-color: #434B5C;\n",
              "        box-shadow: 0px 1px 3px 1px rgba(0, 0, 0, 0.15);\n",
              "        filter: drop-shadow(0px 1px 2px rgba(0, 0, 0, 0.3));\n",
              "        fill: #FFFFFF;\n",
              "      }\n",
              "    </style>\n",
              "    <button class=\"colab-df-generate\" onclick=\"generateWithVariable('USA_Decade_YoungAdult_Obesity_subset')\"\n",
              "            title=\"Generate code using this dataframe.\"\n",
              "            style=\"display:none;\">\n",
              "\n",
              "  <svg xmlns=\"http://www.w3.org/2000/svg\" height=\"24px\"viewBox=\"0 0 24 24\"\n",
              "       width=\"24px\">\n",
              "    <path d=\"M7,19H8.4L18.45,9,17,7.55,7,17.6ZM5,21V16.75L18.45,3.32a2,2,0,0,1,2.83,0l1.4,1.43a1.91,1.91,0,0,1,.58,1.4,1.91,1.91,0,0,1-.58,1.4L9.25,21ZM18.45,9,17,7.55Zm-12,3A5.31,5.31,0,0,0,4.9,8.1,5.31,5.31,0,0,0,1,6.5,5.31,5.31,0,0,0,4.9,4.9,5.31,5.31,0,0,0,6.5,1,5.31,5.31,0,0,0,8.1,4.9,5.31,5.31,0,0,0,12,6.5,5.46,5.46,0,0,0,6.5,12Z\"/>\n",
              "  </svg>\n",
              "    </button>\n",
              "    <script>\n",
              "      (() => {\n",
              "      const buttonEl =\n",
              "        document.querySelector('#id_4d3cb3c3-a5d8-44f1-9146-3047f4d10538 button.colab-df-generate');\n",
              "      buttonEl.style.display =\n",
              "        google.colab.kernel.accessAllowed ? 'block' : 'none';\n",
              "\n",
              "      buttonEl.onclick = () => {\n",
              "        google.colab.notebook.generateWithVariable('USA_Decade_YoungAdult_Obesity_subset');\n",
              "      }\n",
              "      })();\n",
              "    </script>\n",
              "  </div>\n",
              "\n",
              "    </div>\n",
              "  </div>\n"
            ],
            "application/vnd.google.colaboratory.intrinsic+json": {
              "type": "dataframe",
              "variable_name": "USA_Decade_YoungAdult_Obesity_subset",
              "summary": "{\n  \"name\": \"USA_Decade_YoungAdult_Obesity_subset\",\n  \"rows\": 108,\n  \"fields\": [\n    {\n      \"column\": \"YearStart\",\n      \"properties\": {\n        \"dtype\": \"number\",\n        \"std\": 5,\n        \"min\": 2013,\n        \"max\": 2023,\n        \"num_unique_values\": 2,\n        \"samples\": [\n          2023,\n          2013\n        ],\n        \"semantic_type\": \"\",\n        \"description\": \"\"\n      }\n    },\n    {\n      \"column\": \"LocationDesc\",\n      \"properties\": {\n        \"dtype\": \"string\",\n        \"num_unique_values\": 55,\n        \"samples\": [\n          \"New Jersey\",\n          \"Colorado\"\n        ],\n        \"semantic_type\": \"\",\n        \"description\": \"\"\n      }\n    },\n    {\n      \"column\": \"Data_Value\",\n      \"properties\": {\n        \"dtype\": \"number\",\n        \"std\": 4.8050875254862015,\n        \"min\": 7.6,\n        \"max\": 29.6,\n        \"num_unique_values\": 82,\n        \"samples\": [\n          11.1,\n          12.6\n        ],\n        \"semantic_type\": \"\",\n        \"description\": \"\"\n      }\n    }\n  ]\n}"
            }
          },
          "metadata": {},
          "execution_count": 14
        }
      ]
    },
    {
      "cell_type": "markdown",
      "source": [
        "### Exporting the Subset\n",
        "11. Our final step is to export the subset as a `.csv` file. To do so, run the following line of code:"
      ],
      "metadata": {
        "id": "OTyr_nHnRMVr"
      }
    },
    {
      "cell_type": "code",
      "source": [
        "USA_Decade_YoungAdult_Obesity_subset.to_csv(\"USA_Decade_YoungAdult_Obesity_subset.csv\", index=False)"
      ],
      "metadata": {
        "id": "Zygn2ReTSte2"
      },
      "execution_count": null,
      "outputs": []
    },
    {
      "cell_type": "markdown",
      "source": [
        "To download the subset to your local computer, click on the folder icon on the left sidebar, then click on the three dots next to the subset file name and click \"Download.\""
      ],
      "metadata": {
        "id": "sCZd3tGyTPm5"
      }
    }
  ]
}